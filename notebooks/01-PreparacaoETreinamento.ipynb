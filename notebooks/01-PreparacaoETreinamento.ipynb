{
 "cells": [
  {
   "cell_type": "code",
   "execution_count": 2,
   "metadata": {},
   "outputs": [],
   "source": [
    "import warnings\n",
    "import re\n",
    "import pickle\n",
    "\n",
    "import nltk\n",
    "import pandas as pd\n",
    "import numpy as np\n",
    "from nltk.corpus import stopwords\n",
    "from sklearn.feature_extraction.text import TfidfVectorizer\n",
    "from nltk.corpus import stopwords\n",
    "from nltk.stem.porter import PorterStemmer\n",
    "from sklearn.model_selection import cross_validate, cross_val_score\n",
    "from sklearn.pipeline import Pipeline\n",
    "from sklearn.neural_network import MLPClassifier\n",
    "from sklearn.naive_bayes import MultinomialNB\n",
    "from sklearn.linear_model import LogisticRegression\n",
    "from sklearn.svm import SVC\n",
    "from sklearn.tree import DecisionTreeClassifier\n",
    "from nltk.stem.snowball import PortugueseStemmer\n",
    "from sklearn.ensemble import StackingClassifier\n",
    "\n",
    "warnings.filterwarnings(\"ignore\")"
   ]
  },
  {
   "cell_type": "code",
   "execution_count": 3,
   "metadata": {},
   "outputs": [
    {
     "data": {
      "text/html": [
       "<div>\n",
       "<style scoped>\n",
       "    .dataframe tbody tr th:only-of-type {\n",
       "        vertical-align: middle;\n",
       "    }\n",
       "\n",
       "    .dataframe tbody tr th {\n",
       "        vertical-align: top;\n",
       "    }\n",
       "\n",
       "    .dataframe thead th {\n",
       "        text-align: right;\n",
       "    }\n",
       "</style>\n",
       "<table border=\"1\" class=\"dataframe\">\n",
       "  <thead>\n",
       "    <tr style=\"text-align: right;\">\n",
       "      <th></th>\n",
       "      <th>title</th>\n",
       "      <th>body</th>\n",
       "      <th>label</th>\n",
       "    </tr>\n",
       "  </thead>\n",
       "  <tbody>\n",
       "    <tr>\n",
       "      <th>0</th>\n",
       "      <td>É  que Tite prestou homenagem em túmulo de Fi...</td>\n",
       "      <td>Apesar da semelhança física, foto que circula ...</td>\n",
       "      <td>1</td>\n",
       "    </tr>\n",
       "    <tr>\n",
       "      <th>1</th>\n",
       "      <td>É  que esposa do CEO da Pfizer morreu por com...</td>\n",
       "      <td>Myriam Bourla esteve em evento em 10 de novemb...</td>\n",
       "      <td>1</td>\n",
       "    </tr>\n",
       "  </tbody>\n",
       "</table>\n",
       "</div>"
      ],
      "text/plain": [
       "                                               title  \\\n",
       "0   É  que Tite prestou homenagem em túmulo de Fi...   \n",
       "1   É  que esposa do CEO da Pfizer morreu por com...   \n",
       "\n",
       "                                                body  label  \n",
       "0  Apesar da semelhança física, foto que circula ...      1  \n",
       "1  Myriam Bourla esteve em evento em 10 de novemb...      1  "
      ]
     },
     "execution_count": 3,
     "metadata": {},
     "output_type": "execute_result"
    }
   ],
   "source": [
    "df = pd.read_csv('../data/pt-br/dadosposanalise.csv')\n",
    "df.head(2)"
   ]
  },
  {
   "cell_type": "code",
   "execution_count": 4,
   "metadata": {},
   "outputs": [
    {
     "data": {
      "text/plain": [
       "title    0\n",
       "body     1\n",
       "label    0\n",
       "dtype: int64"
      ]
     },
     "execution_count": 4,
     "metadata": {},
     "output_type": "execute_result"
    }
   ],
   "source": [
    "df.isna().sum()"
   ]
  },
  {
   "cell_type": "code",
   "execution_count": 5,
   "metadata": {},
   "outputs": [],
   "source": [
    "df = df.dropna()"
   ]
  },
  {
   "cell_type": "code",
   "execution_count": 6,
   "metadata": {},
   "outputs": [
    {
     "data": {
      "text/plain": [
       "title    0\n",
       "body     0\n",
       "label    0\n",
       "dtype: int64"
      ]
     },
     "execution_count": 6,
     "metadata": {},
     "output_type": "execute_result"
    }
   ],
   "source": [
    "df.isna().sum()"
   ]
  },
  {
   "cell_type": "code",
   "execution_count": 7,
   "metadata": {},
   "outputs": [],
   "source": [
    "df = df.reset_index()"
   ]
  },
  {
   "cell_type": "code",
   "execution_count": 9,
   "metadata": {},
   "outputs": [],
   "source": [
    "X = df['title'].to_list()\n",
    "y = df[['label']]"
   ]
  },
  {
   "cell_type": "code",
   "execution_count": 10,
   "metadata": {},
   "outputs": [],
   "source": [
    "ps = PorterStemmer()\n",
    "words = stopwords.words('portuguese')\n",
    "\n"
   ]
  },
  {
   "cell_type": "code",
   "execution_count": 11,
   "metadata": {},
   "outputs": [],
   "source": [
    "stemmer = PortugueseStemmer()\n",
    "analyzer = TfidfVectorizer().build_analyzer()\n",
    "\n",
    "def stemmed_words(doc):\n",
    "    return (stemmer.stem(w) for w in analyzer(doc))\n",
    "\n",
    "stem_vectorizer = TfidfVectorizer(analyzer=stemmed_words)"
   ]
  },
  {
   "cell_type": "code",
   "execution_count": 12,
   "metadata": {},
   "outputs": [],
   "source": [
    "transformer = Pipeline(\n",
    "    steps= [\n",
    "        ('stemmer_tfidf', stem_vectorizer)\n",
    "    ]\n",
    ")"
   ]
  },
  {
   "cell_type": "code",
   "execution_count": 13,
   "metadata": {},
   "outputs": [],
   "source": [
    "decisiontree = DecisionTreeClassifier()\n",
    "\n",
    "mlp = MLPClassifier(hidden_layer_sizes=(100,), \n",
    "                           activation='relu',\n",
    "                           solver = 'adam',\n",
    "                           alpha=0.001)\n",
    "\n",
    "lr = LogisticRegression()\n",
    "\n",
    "svc = SVC(probability=True)\n",
    "\n",
    "models = {\n",
    "    'decisiontree': decisiontree,\n",
    "    'mlp': mlp,\n",
    "    'lr': lr,\n",
    "    'svc':svc\n",
    "}\n",
    "\n",
    "clf = StackingClassifier(\n",
    "    estimators=[\n",
    "        ('decisiontree', decisiontree),\n",
    "        ('lr', lr),\n",
    "        ('mlp', mlp),\n",
    "        ('svc',svc)\n",
    "    ],\n",
    "    final_estimator=svc,\n",
    "    cv=10\n",
    ")\n"
   ]
  },
  {
   "cell_type": "code",
   "execution_count": 14,
   "metadata": {},
   "outputs": [],
   "source": [
    "resultsacc = {model_name: None for model_name in models}\n",
    "resultsf1 = {model_name: None for model_name in models}\n",
    "for model_name, model in models.items():\n",
    "    reg = Pipeline(\n",
    "            steps=[\n",
    "                ('preprocessor', transformer),\n",
    "                ('regressor', model)\n",
    "            ]\n",
    "        )\n",
    "        #scores = cross_val_score(reg, X, y, scoring='accuracy', cv=10)\n",
    "    scores = cross_validate(reg, X, y, scoring=[ 'accuracy', 'f1'], cv=10)\n",
    "    f1 = scores['test_f1'].mean()*100\n",
    "    acc = scores['test_accuracy'].mean()*100\n",
    "    resultsf1[model_name] = '{:.2f}'.format(f1)\n",
    "    resultsacc[model_name] = '{:.2f}'.format(acc)"
   ]
  },
  {
   "cell_type": "code",
   "execution_count": 15,
   "metadata": {},
   "outputs": [
    {
     "data": {
      "text/plain": [
       "{'decisiontree': '84.31', 'mlp': '85.74', 'lr': '88.88', 'svc': '89.82'}"
      ]
     },
     "execution_count": 15,
     "metadata": {},
     "output_type": "execute_result"
    }
   ],
   "source": [
    "resultsacc"
   ]
  },
  {
   "cell_type": "code",
   "execution_count": 16,
   "metadata": {},
   "outputs": [
    {
     "data": {
      "text/plain": [
       "{'decisiontree': '84.04', 'mlp': '85.26', 'lr': '88.57', 'svc': '89.61'}"
      ]
     },
     "execution_count": 16,
     "metadata": {},
     "output_type": "execute_result"
    }
   ],
   "source": [
    "resultsf1"
   ]
  },
  {
   "cell_type": "code",
   "execution_count": 17,
   "metadata": {},
   "outputs": [],
   "source": [
    "#best_clf = models[max(resultsacc)]"
   ]
  },
  {
   "cell_type": "code",
   "execution_count": 18,
   "metadata": {},
   "outputs": [
    {
     "data": {
      "text/plain": [
       "Pipeline(steps=[('preprocessor',\n",
       "                 Pipeline(steps=[('stemmer_tfidf',\n",
       "                                  TfidfVectorizer(analyzer=<function stemmed_words at 0x0000014CFFE7FE50>))])),\n",
       "                ('regressor',\n",
       "                 StackingClassifier(cv=10,\n",
       "                                    estimators=[('decisiontree',\n",
       "                                                 DecisionTreeClassifier()),\n",
       "                                                ('lr', LogisticRegression()),\n",
       "                                                ('mlp',\n",
       "                                                 MLPClassifier(alpha=0.001)),\n",
       "                                                ('svc', SVC(probability=True))],\n",
       "                                    final_estimator=SVC(probability=True)))])"
      ]
     },
     "execution_count": 18,
     "metadata": {},
     "output_type": "execute_result"
    }
   ],
   "source": [
    "model = Pipeline(\n",
    "        steps=[\n",
    "            ('preprocessor', transformer),\n",
    "            ('regressor', clf)\n",
    "        ]\n",
    "    )\n",
    "\n",
    "model.fit(X, y)"
   ]
  },
  {
   "cell_type": "code",
   "execution_count": 19,
   "metadata": {},
   "outputs": [],
   "source": [
    "pickle.dump(model, open('../models/modelofinal.joblib', 'wb'))"
   ]
  }
 ],
 "metadata": {
  "interpreter": {
   "hash": "b3ba2566441a7c06988d0923437866b63cedc61552a5af99d1f4fb67d367b25f"
  },
  "kernelspec": {
   "display_name": "Python 3.8.8 64-bit ('base': conda)",
   "language": "python",
   "name": "python3"
  },
  "language_info": {
   "codemirror_mode": {
    "name": "ipython",
    "version": 3
   },
   "file_extension": ".py",
   "mimetype": "text/x-python",
   "name": "python",
   "nbconvert_exporter": "python",
   "pygments_lexer": "ipython3",
   "version": "3.8.8"
  },
  "orig_nbformat": 4
 },
 "nbformat": 4,
 "nbformat_minor": 2
}
