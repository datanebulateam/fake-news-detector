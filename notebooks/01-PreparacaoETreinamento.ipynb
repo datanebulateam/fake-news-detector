{
 "cells": [
  {
   "cell_type": "code",
   "execution_count": 1,
   "metadata": {},
   "outputs": [],
   "source": [
    "import warnings\n",
    "import re\n",
    "import pickle\n",
    "\n",
    "import nltk\n",
    "import pandas as pd\n",
    "import numpy as np\n",
    "from nltk.corpus import stopwords\n",
    "from sklearn.feature_extraction.text import TfidfVectorizer\n",
    "from nltk.stem.porter import PorterStemmer\n",
    "from sklearn.model_selection import cross_validate, cross_val_score\n",
    "from sklearn.pipeline import Pipeline\n",
    "from sklearn.neural_network import MLPClassifier\n",
    "from sklearn.naive_bayes import MultinomialNB\n",
    "from sklearn.linear_model import LogisticRegression\n",
    "from sklearn.svm import SVC\n",
    "from sklearn.tree import DecisionTreeClassifier\n",
    "from nltk.stem.snowball import PortugueseStemmer\n",
    "from sklearn.ensemble import StackingClassifier\n",
    "\n",
    "warnings.filterwarnings(\"ignore\")"
   ]
  },
  {
   "cell_type": "code",
   "execution_count": 2,
   "metadata": {},
   "outputs": [
    {
     "data": {
      "text/html": [
       "<div>\n",
       "<style scoped>\n",
       "    .dataframe tbody tr th:only-of-type {\n",
       "        vertical-align: middle;\n",
       "    }\n",
       "\n",
       "    .dataframe tbody tr th {\n",
       "        vertical-align: top;\n",
       "    }\n",
       "\n",
       "    .dataframe thead th {\n",
       "        text-align: right;\n",
       "    }\n",
       "</style>\n",
       "<table border=\"1\" class=\"dataframe\">\n",
       "  <thead>\n",
       "    <tr style=\"text-align: right;\">\n",
       "      <th></th>\n",
       "      <th>title</th>\n",
       "      <th>body</th>\n",
       "      <th>label</th>\n",
       "      <th>lide</th>\n",
       "    </tr>\n",
       "  </thead>\n",
       "  <tbody>\n",
       "    <tr>\n",
       "      <th>0</th>\n",
       "      <td>É  que Tite prestou homenagem em túmulo de Fi...</td>\n",
       "      <td>Apesar da semelhança física, foto que circula ...</td>\n",
       "      <td>1</td>\n",
       "      <td>NaN</td>\n",
       "    </tr>\n",
       "    <tr>\n",
       "      <th>1</th>\n",
       "      <td>É  que esposa do CEO da Pfizer morreu por com...</td>\n",
       "      <td>Myriam Bourla esteve em evento em 10 de novemb...</td>\n",
       "      <td>1</td>\n",
       "      <td>NaN</td>\n",
       "    </tr>\n",
       "  </tbody>\n",
       "</table>\n",
       "</div>"
      ],
      "text/plain": [
       "                                               title  \\\n",
       "0   É  que Tite prestou homenagem em túmulo de Fi...   \n",
       "1   É  que esposa do CEO da Pfizer morreu por com...   \n",
       "\n",
       "                                                body  label  lide  \n",
       "0  Apesar da semelhança física, foto que circula ...      1   NaN  \n",
       "1  Myriam Bourla esteve em evento em 10 de novemb...      1   NaN  "
      ]
     },
     "execution_count": 2,
     "metadata": {},
     "output_type": "execute_result"
    }
   ],
   "source": [
    "df = pd.read_csv('../data/pt-br/processed/dadosposanalise.csv')\n",
    "df.head(2)"
   ]
  },
  {
   "cell_type": "code",
   "execution_count": 3,
   "metadata": {},
   "outputs": [
    {
     "data": {
      "text/plain": [
       "title       0\n",
       "body     4998\n",
       "label       0\n",
       "lide     9263\n",
       "dtype: int64"
      ]
     },
     "execution_count": 3,
     "metadata": {},
     "output_type": "execute_result"
    }
   ],
   "source": [
    "df.isna().sum()"
   ]
  },
  {
   "cell_type": "code",
   "execution_count": 4,
   "metadata": {},
   "outputs": [],
   "source": [
    "df = df.drop(['lide', 'body'], axis=1)"
   ]
  },
  {
   "cell_type": "code",
   "execution_count": 5,
   "metadata": {},
   "outputs": [
    {
     "data": {
      "text/plain": [
       "title    0\n",
       "label    0\n",
       "dtype: int64"
      ]
     },
     "execution_count": 5,
     "metadata": {},
     "output_type": "execute_result"
    }
   ],
   "source": [
    "df.isna().sum()"
   ]
  },
  {
   "cell_type": "code",
   "execution_count": 6,
   "metadata": {},
   "outputs": [],
   "source": [
    "df = df.reset_index()"
   ]
  },
  {
   "cell_type": "code",
   "execution_count": 7,
   "metadata": {},
   "outputs": [
    {
     "data": {
      "text/plain": [
       "[' É  que Tite prestou homenagem em túmulo de Fidel Castro',\n",
       " ' É  que esposa do CEO da Pfizer morreu por complicações da vacina da Covid-19',\n",
       " ' É  que Lula foi vaiado em encontro de movimentos sociais',\n",
       " ' É  que Lewis Hamilton elogiou Bolsonaro para o New York Times',\n",
       " ' É antigo áudio de queda de avião que está sendo atribuído ao acidente de Marília Mendonça',\n",
       " ' É  que China está enviando centenas de pessoas para acampamentos de Covid-19',\n",
       " 'Nas redes sociais, Auxílio Brasil gera dúvidas sobre valor e quem pode receber o benefício\\xa0',\n",
       " ' Morte de crianças africanas em escola não está relacionada à vacinação contra Covid-19',\n",
       " ' É  que o número de mortes por Covid-19 na Itália é 97,1% menor do que mostram dados oficiais',\n",
       " ' É montagem foto de faixa pedindo doação de órgãos de crianças em posto de vacinação']"
      ]
     },
     "execution_count": 7,
     "metadata": {},
     "output_type": "execute_result"
    }
   ],
   "source": [
    "X = df['title'].to_list()\n",
    "y = df[['label']]\n",
    "X[:10]"
   ]
  },
  {
   "cell_type": "code",
   "execution_count": 8,
   "metadata": {},
   "outputs": [],
   "source": [
    "#ps = PorterStemmer()\n",
    "words = stopwords.words('portuguese')"
   ]
  },
  {
   "cell_type": "code",
   "execution_count": 9,
   "metadata": {},
   "outputs": [],
   "source": [
    "stemmer = PortugueseStemmer()\n",
    "analyzer = TfidfVectorizer().build_analyzer()\n",
    "\n",
    "def stemmed_words(doc):\n",
    "    return (stemmer.stem(w) for w in analyzer(doc))\n",
    "\n",
    "stem_vectorizer = TfidfVectorizer(analyzer=stemmed_words, stop_words= words)"
   ]
  },
  {
   "cell_type": "code",
   "execution_count": 10,
   "metadata": {},
   "outputs": [],
   "source": [
    "transformer = Pipeline(\n",
    "    steps= [\n",
    "        ('stemmer_tfidf', stem_vectorizer)\n",
    "    ]\n",
    ")"
   ]
  },
  {
   "cell_type": "code",
   "execution_count": 11,
   "metadata": {},
   "outputs": [],
   "source": [
    "decisiontree = DecisionTreeClassifier()\n",
    "\n",
    "mlp = MLPClassifier(hidden_layer_sizes=(100,), \n",
    "                           activation='relu',\n",
    "                           solver = 'adam',\n",
    "                           alpha=0.001)\n",
    "\n",
    "lr = LogisticRegression()\n",
    "\n",
    "svc = SVC(probability=True)\n",
    "\n",
    "clf = StackingClassifier(\n",
    "    estimators=[\n",
    "        ('decisiontree',decisiontree),\n",
    "        ('lr', lr),\n",
    "        ('mlp', mlp),\n",
    "        ('svc',svc)\n",
    "    ],\n",
    "    final_estimator=svc,\n",
    "    cv=10\n",
    ")\n",
    "\n",
    "models = {\n",
    "    'decisiontree': decisiontree,\n",
    "    'mlp': mlp,\n",
    "    'lr': lr,\n",
    "    'svc':svc,\n",
    "    'stacked': clf\n",
    "}"
   ]
  },
  {
   "cell_type": "code",
   "execution_count": 12,
   "metadata": {},
   "outputs": [],
   "source": [
    "resultsacc = {model_name: None for model_name in models}\n",
    "resultsf1 = {model_name: None for model_name in models}\n",
    "for model_name, model in models.items():\n",
    "    reg = Pipeline(\n",
    "            steps=[\n",
    "                ('preprocessor', transformer),\n",
    "                ('regressor', model)\n",
    "            ]\n",
    "        )\n",
    "    scores = cross_validate(reg, X, y, scoring=[ 'accuracy', 'f1'], cv=10)\n",
    "    f1 = scores['test_f1'].mean()*100\n",
    "    acc = scores['test_accuracy'].mean()*100\n",
    "    resultsf1[model_name] = '{:.2f}'.format(f1)\n",
    "    resultsacc[model_name] = '{:.2f}'.format(acc)"
   ]
  },
  {
   "cell_type": "code",
   "execution_count": 13,
   "metadata": {},
   "outputs": [
    {
     "data": {
      "text/plain": [
       "{'decisiontree': '84.36',\n",
       " 'mlp': '87.81',\n",
       " 'lr': '89.33',\n",
       " 'svc': '90.18',\n",
       " 'stacked': '90.80'}"
      ]
     },
     "execution_count": 13,
     "metadata": {},
     "output_type": "execute_result"
    }
   ],
   "source": [
    "resultsacc"
   ]
  },
  {
   "cell_type": "code",
   "execution_count": 14,
   "metadata": {},
   "outputs": [
    {
     "data": {
      "text/plain": [
       "{'decisiontree': '80.99',\n",
       " 'mlp': '84.67',\n",
       " 'lr': '86.29',\n",
       " 'svc': '87.65',\n",
       " 'stacked': '88.85'}"
      ]
     },
     "execution_count": 14,
     "metadata": {},
     "output_type": "execute_result"
    }
   ],
   "source": [
    "resultsf1"
   ]
  },
  {
   "cell_type": "code",
   "execution_count": 15,
   "metadata": {},
   "outputs": [],
   "source": [
    "best_clf = models[max(resultsacc)]"
   ]
  },
  {
   "cell_type": "code",
   "execution_count": 16,
   "metadata": {},
   "outputs": [
    {
     "data": {
      "text/plain": [
       "Pipeline(steps=[('preprocessor',\n",
       "                 Pipeline(steps=[('stemmer_tfidf',\n",
       "                                  TfidfVectorizer(analyzer=<function stemmed_words at 0x00000185F52B9310>,\n",
       "                                                  stop_words=['de', 'a', 'o',\n",
       "                                                              'que', 'e', 'é',\n",
       "                                                              'do', 'da', 'em',\n",
       "                                                              'um', 'para',\n",
       "                                                              'com', 'não',\n",
       "                                                              'uma', 'os', 'no',\n",
       "                                                              'se', 'na', 'por',\n",
       "                                                              'mais', 'as',\n",
       "                                                              'dos', 'como',\n",
       "                                                              'mas', 'ao',\n",
       "                                                              'ele', 'das', 'à',\n",
       "                                                              'seu', 'sua', ...]))])),\n",
       "                ('regressor', SVC(probability=True))])"
      ]
     },
     "execution_count": 16,
     "metadata": {},
     "output_type": "execute_result"
    }
   ],
   "source": [
    "model = Pipeline(\n",
    "        steps=[\n",
    "            ('preprocessor', transformer),\n",
    "            ('regressor', best_clf)\n",
    "        ]\n",
    "    )\n",
    "\n",
    "model.fit(X, y)"
   ]
  },
  {
   "cell_type": "code",
   "execution_count": 17,
   "metadata": {},
   "outputs": [
    {
     "data": {
      "text/plain": [
       "Pipeline(steps=[('preprocessor',\n",
       "                 Pipeline(steps=[('stemmer_tfidf',\n",
       "                                  TfidfVectorizer(analyzer=<function stemmed_words at 0x00000185F52B9310>,\n",
       "                                                  stop_words=['de', 'a', 'o',\n",
       "                                                              'que', 'e', 'é',\n",
       "                                                              'do', 'da', 'em',\n",
       "                                                              'um', 'para',\n",
       "                                                              'com', 'não',\n",
       "                                                              'uma', 'os', 'no',\n",
       "                                                              'se', 'na', 'por',\n",
       "                                                              'mais', 'as',\n",
       "                                                              'dos', 'como',\n",
       "                                                              'mas', 'ao',\n",
       "                                                              'ele', 'das', 'à',\n",
       "                                                              'seu', 'sua', ...]))])),\n",
       "                ('regressor', LogisticRegression())])"
      ]
     },
     "execution_count": 17,
     "metadata": {},
     "output_type": "execute_result"
    }
   ],
   "source": [
    "model1 = Pipeline(\n",
    "        steps=[\n",
    "            ('preprocessor', transformer),\n",
    "            ('regressor', lr)\n",
    "        ]\n",
    "    )\n",
    "\n",
    "model1.fit(X, y)"
   ]
  },
  {
   "cell_type": "code",
   "execution_count": 12,
   "metadata": {},
   "outputs": [
    {
     "ename": "NameError",
     "evalue": "name 'model' is not defined",
     "output_type": "error",
     "traceback": [
      "\u001b[1;31m---------------------------------------------------------------------------\u001b[0m",
      "\u001b[1;31mNameError\u001b[0m                                 Traceback (most recent call last)",
      "\u001b[1;32m<ipython-input-12-d81e856bb438>\u001b[0m in \u001b[0;36m<module>\u001b[1;34m\u001b[0m\n\u001b[1;32m----> 1\u001b[1;33m \u001b[0mpickle\u001b[0m\u001b[1;33m.\u001b[0m\u001b[0mdump\u001b[0m\u001b[1;33m(\u001b[0m\u001b[0mmodel\u001b[0m\u001b[1;33m,\u001b[0m \u001b[0mopen\u001b[0m\u001b[1;33m(\u001b[0m\u001b[1;34m'../models/modelofinal.joblib'\u001b[0m\u001b[1;33m,\u001b[0m \u001b[1;34m'wb'\u001b[0m\u001b[1;33m)\u001b[0m\u001b[1;33m)\u001b[0m\u001b[1;33m\u001b[0m\u001b[1;33m\u001b[0m\u001b[0m\n\u001b[0m",
      "\u001b[1;31mNameError\u001b[0m: name 'model' is not defined"
     ]
    }
   ],
   "source": [
    "pickle.dump(model, open('../models/modelofinal.joblib', 'wb'))"
   ]
  },
  {
   "cell_type": "code",
   "execution_count": 13,
   "metadata": {},
   "outputs": [],
   "source": [
    "from pickle import load\n",
    "model = load(open('../models/modelofinal.joblib', 'rb'))"
   ]
  },
  {
   "cell_type": "code",
   "execution_count": 16,
   "metadata": {},
   "outputs": [
    {
     "data": {
      "text/plain": [
       "array([0], dtype=int64)"
      ]
     },
     "execution_count": 16,
     "metadata": {},
     "output_type": "execute_result"
    }
   ],
   "source": [
    "prob = model.predict(['sjdgnhsjahhas'])\n",
    "prob\n"
   ]
  }
 ],
 "metadata": {
  "interpreter": {
   "hash": "b3ba2566441a7c06988d0923437866b63cedc61552a5af99d1f4fb67d367b25f"
  },
  "kernelspec": {
   "display_name": "Python 3.8.8 64-bit ('base': conda)",
   "language": "python",
   "name": "python3"
  },
  "language_info": {
   "codemirror_mode": {
    "name": "ipython",
    "version": 3
   },
   "file_extension": ".py",
   "mimetype": "text/x-python",
   "name": "python",
   "nbconvert_exporter": "python",
   "pygments_lexer": "ipython3",
   "version": "3.8.8"
  },
  "orig_nbformat": 4
 },
 "nbformat": 4,
 "nbformat_minor": 2
}
